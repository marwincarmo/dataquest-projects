{
 "cells": [
  {
   "cell_type": "markdown",
   "id": "86b03584",
   "metadata": {},
   "source": [
    "# Guided Project: Finding Heavy Traffic Indicators on I-94\n",
    "### Author: Marwin M I B Carmo"
   ]
  },
  {
   "cell_type": "markdown",
   "id": "b649345d",
   "metadata": {},
   "source": [
    "## Introduction\n",
    "\n",
    "In this project we will practice data exploration and visualization. The chosen dataset provides the westbound traffic on the [I-94 Interstate highway](https://en.wikipedia.org/wiki/Interstate_94). It can be dowloaded from [UCI Machine Learning Repository](https://archive.ics.uci.edu/ml/datasets/Metro+Interstate+Traffic+Volume).\n",
    "\n",
    "In this analysis we will search for some indicators of heavy traffict on I-94."
   ]
  },
  {
   "cell_type": "code",
   "execution_count": 26,
   "id": "bddae0d2",
   "metadata": {},
   "outputs": [],
   "source": [
    "# importing packages and reading the dataset\n",
    "import matplotlib.pyplot as plt\n",
    "%matplotlib inline\n",
    "import pandas as pd\n",
    "\n",
    "traffic = pd.read_csv('data/Metro_Interstate_Traffic_Volume.csv')"
   ]
  },
  {
   "cell_type": "code",
   "execution_count": 5,
   "id": "b54f4b1a",
   "metadata": {},
   "outputs": [
    {
     "name": "stdout",
     "output_type": "stream",
     "text": [
      "  holiday    temp  rain_1h  snow_1h  clouds_all weather_main  \\\n",
      "0    None  288.28      0.0      0.0          40       Clouds   \n",
      "1    None  289.36      0.0      0.0          75       Clouds   \n",
      "2    None  289.58      0.0      0.0          90       Clouds   \n",
      "3    None  290.13      0.0      0.0          90       Clouds   \n",
      "4    None  291.14      0.0      0.0          75       Clouds   \n",
      "\n",
      "  weather_description            date_time  traffic_volume  \n",
      "0    scattered clouds  2012-10-02 09:00:00            5545  \n",
      "1       broken clouds  2012-10-02 10:00:00            4516  \n",
      "2     overcast clouds  2012-10-02 11:00:00            4767  \n",
      "3     overcast clouds  2012-10-02 12:00:00            5026  \n",
      "4       broken clouds  2012-10-02 13:00:00            4918  \n",
      "      holiday    temp  rain_1h  snow_1h  clouds_all  weather_main  \\\n",
      "48199    None  283.45      0.0      0.0          75        Clouds   \n",
      "48200    None  282.76      0.0      0.0          90        Clouds   \n",
      "48201    None  282.73      0.0      0.0          90  Thunderstorm   \n",
      "48202    None  282.09      0.0      0.0          90        Clouds   \n",
      "48203    None  282.12      0.0      0.0          90        Clouds   \n",
      "\n",
      "          weather_description            date_time  traffic_volume  \n",
      "48199           broken clouds  2018-09-30 19:00:00            3543  \n",
      "48200         overcast clouds  2018-09-30 20:00:00            2781  \n",
      "48201  proximity thunderstorm  2018-09-30 21:00:00            2159  \n",
      "48202         overcast clouds  2018-09-30 22:00:00            1450  \n",
      "48203         overcast clouds  2018-09-30 23:00:00             954  \n",
      "<class 'pandas.core.frame.DataFrame'>\n",
      "RangeIndex: 48204 entries, 0 to 48203\n",
      "Data columns (total 9 columns):\n",
      " #   Column               Non-Null Count  Dtype  \n",
      "---  ------               --------------  -----  \n",
      " 0   holiday              48204 non-null  object \n",
      " 1   temp                 48204 non-null  float64\n",
      " 2   rain_1h              48204 non-null  float64\n",
      " 3   snow_1h              48204 non-null  float64\n",
      " 4   clouds_all           48204 non-null  int64  \n",
      " 5   weather_main         48204 non-null  object \n",
      " 6   weather_description  48204 non-null  object \n",
      " 7   date_time            48204 non-null  object \n",
      " 8   traffic_volume       48204 non-null  int64  \n",
      "dtypes: float64(3), int64(2), object(4)\n",
      "memory usage: 3.3+ MB\n"
     ]
    }
   ],
   "source": [
    "# inspecting first five rows\n",
    "print(traffic.head(5))\n",
    "\n",
    "# inspecting last five rows\n",
    "print(traffic.tail(5))\n",
    "\n",
    "# Exploring dataset info\n",
    "traffic.info()"
   ]
  },
  {
   "cell_type": "code",
   "execution_count": 11,
   "id": "450ed02d",
   "metadata": {},
   "outputs": [
    {
     "data": {
      "image/png": "[encoded data removed]",
      "text/plain": [
       "<Figure size 432x288 with 1 Axes>"
      ]
     },
     "metadata": {
      "needs_background": "light"
     },
     "output_type": "display_data"
    }
   ],
   "source": [
    "# histogram of traffic_volume column\n",
    "\n",
    "plt.hist(traffic['traffic_volume'])\n",
    "plt.show()"
   ]
  },
  {
   "cell_type": "code",
   "execution_count": 13,
   "id": "3e482b46",
   "metadata": {},
   "outputs": [
    {
     "data": {
      "text/plain": [
       "count    48204.000000\n",
       "mean      3259.818355\n",
       "std       1986.860670\n",
       "min          0.000000\n",
       "25%       1193.000000\n",
       "50%       3380.000000\n",
       "75%       4933.000000\n",
       "max       7280.000000\n",
       "Name: traffic_volume, dtype: float64"
      ]
     },
     "execution_count": 13,
     "metadata": {},
     "output_type": "execute_result"
    }
   ],
   "source": [
    "# traffic_volume information\n",
    "\n",
    "traffic['traffic_volume'].describe()"
   ]
  },
  {
   "cell_type": "markdown",
   "id": "ed01192d",
   "metadata": {},
   "source": [
    "Inspecting the output from `traffic_volume` column, we see that the distribution looks bimodal. The first quartile says that about 25% of the time, there were 1,193 cars at maximum passing the station each hour. On the other extremity, the third quartile inform us that about 25% of the time, the traffic volume increased to at least 4,933 cars each hour.\n",
    "\n",
    "There is a strong suspicion that the taffic volume is influeced by the time of the day. To help the investigation, we will divide the dataset into **daytime** data (7 a.m. to 7 p.m.) and **nighttime** data (7 p.m. to 7 a.m.)."
   ]
  },
  {
   "cell_type": "markdown",
   "id": "3a229054",
   "metadata": {},
   "source": [
    "## Traffic Volume: Day vs. Night"
   ]
  },
  {
   "cell_type": "code",
   "execution_count": 27,
   "id": "431ace71",
   "metadata": {},
   "outputs": [],
   "source": [
    "# first we need to transform the date_time column into datetime object\n",
    "\n",
    "traffic['date_time'] = pd.to_datetime(traffic['date_time'])"
   ]
  },
  {
   "cell_type": "code",
   "execution_count": 87,
   "id": "9c538693",
   "metadata": {},
   "outputs": [],
   "source": [
    "# now we isolate the daytime and nighttime data\n",
    "daytime_data = traffic[(traffic['date_time'].dt.hour >= 7) & (traffic['date_time'].dt.hour <= 19)]\n",
    "\n",
    "nighttime_data = traffic[(traffic['date_time'].dt.hour <= 7) | (traffic['date_time'].dt.hour >= 19)]"
   ]
  },
  {
   "cell_type": "code",
   "execution_count": 105,
   "id": "63386107",
   "metadata": {},
   "outputs": [
    {
     "data": {
      "image/png": "[encoded data removed]",
      "text/plain": [
       "<Figure size 576x216 with 2 Axes>"
      ]
     },
     "metadata": {
      "needs_background": "light"
     },
     "output_type": "display_data"
    }
   ],
   "source": [
    "# plotting the histogram for both time separated datasets\n",
    "\n",
    "# we need a grid chart with two columns and one row:\n",
    "\n",
    "plt.figure(figsize=(8,3))\n",
    "plt.subplot(1,2,1)\n",
    "plt.hist(daytime_data['traffic_volume'])\n",
    "plt.title('Daytime data (7 a.m. to 7 p.m.)')\n",
    "plt.xlabel('Traffic Volume')\n",
    "plt.ylabel('Count')\n",
    "plt.subplot(1,2,2)\n",
    "plt.hist(nighttime_data['traffic_volume'])\n",
    "plt.title('Nighttime data (7 p.m. to 7 a.m.)')\n",
    "plt.xlabel('Traffic Volume')\n",
    "plt.show()"
   ]
  },
  {
   "cell_type": "code",
   "execution_count": 108,
   "id": "89784ae0",
   "metadata": {
    "scrolled": true
   },
   "outputs": [
    {
     "data": {
      "text/html": [
       "<div>\n",
       "<style scoped>\n",
       "    .dataframe tbody tr th:only-of-type {\n",
       "        vertical-align: middle;\n",
       "    }\n",
       "\n",
       "    .dataframe tbody tr th {\n",
       "        vertical-align: top;\n",
       "    }\n",
       "\n",
       "    .dataframe thead th {\n",
       "        text-align: right;\n",
       "    }\n",
       "</style>\n",
       "<table border=\"1\" class=\"dataframe\">\n",
       "  <thead>\n",
       "    <tr style=\"text-align: right;\">\n",
       "      <th></th>\n",
       "      <th>temp</th>\n",
       "      <th>rain_1h</th>\n",
       "      <th>snow_1h</th>\n",
       "      <th>clouds_all</th>\n",
       "      <th>traffic_volume</th>\n",
       "    </tr>\n",
       "  </thead>\n",
       "  <tbody>\n",
       "    <tr>\n",
       "      <th>count</th>\n",
       "      <td>25838.000000</td>\n",
       "      <td>25838.000000</td>\n",
       "      <td>25838.000000</td>\n",
       "      <td>25838.000000</td>\n",
       "      <td>25838.000000</td>\n",
       "    </tr>\n",
       "    <tr>\n",
       "      <th>mean</th>\n",
       "      <td>282.347796</td>\n",
       "      <td>0.502320</td>\n",
       "      <td>0.000234</td>\n",
       "      <td>53.040135</td>\n",
       "      <td>4649.292360</td>\n",
       "    </tr>\n",
       "    <tr>\n",
       "      <th>std</th>\n",
       "      <td>13.302562</td>\n",
       "      <td>61.167614</td>\n",
       "      <td>0.008511</td>\n",
       "      <td>37.590946</td>\n",
       "      <td>1202.321987</td>\n",
       "    </tr>\n",
       "    <tr>\n",
       "      <th>min</th>\n",
       "      <td>0.000000</td>\n",
       "      <td>0.000000</td>\n",
       "      <td>0.000000</td>\n",
       "      <td>0.000000</td>\n",
       "      <td>0.000000</td>\n",
       "    </tr>\n",
       "    <tr>\n",
       "      <th>25%</th>\n",
       "      <td>272.720000</td>\n",
       "      <td>0.000000</td>\n",
       "      <td>0.000000</td>\n",
       "      <td>5.000000</td>\n",
       "      <td>4021.000000</td>\n",
       "    </tr>\n",
       "    <tr>\n",
       "      <th>50%</th>\n",
       "      <td>283.867000</td>\n",
       "      <td>0.000000</td>\n",
       "      <td>0.000000</td>\n",
       "      <td>75.000000</td>\n",
       "      <td>4736.000000</td>\n",
       "    </tr>\n",
       "    <tr>\n",
       "      <th>75%</th>\n",
       "      <td>293.610000</td>\n",
       "      <td>0.000000</td>\n",
       "      <td>0.000000</td>\n",
       "      <td>90.000000</td>\n",
       "      <td>5458.000000</td>\n",
       "    </tr>\n",
       "    <tr>\n",
       "      <th>max</th>\n",
       "      <td>310.070000</td>\n",
       "      <td>9831.300000</td>\n",
       "      <td>0.510000</td>\n",
       "      <td>100.000000</td>\n",
       "      <td>7280.000000</td>\n",
       "    </tr>\n",
       "  </tbody>\n",
       "</table>\n",
       "</div>"
      ],
      "text/plain": [
       "               temp       rain_1h       snow_1h    clouds_all  traffic_volume\n",
       "count  25838.000000  25838.000000  25838.000000  25838.000000    25838.000000\n",
       "mean     282.347796      0.502320      0.000234     53.040135     4649.292360\n",
       "std       13.302562     61.167614      0.008511     37.590946     1202.321987\n",
       "min        0.000000      0.000000      0.000000      0.000000        0.000000\n",
       "25%      272.720000      0.000000      0.000000      5.000000     4021.000000\n",
       "50%      283.867000      0.000000      0.000000     75.000000     4736.000000\n",
       "75%      293.610000      0.000000      0.000000     90.000000     5458.000000\n",
       "max      310.070000   9831.300000      0.510000    100.000000     7280.000000"
      ]
     },
     "execution_count": 108,
     "metadata": {},
     "output_type": "execute_result"
    }
   ],
   "source": [
    "# exploring traffic_volume statistics for daytime data\n",
    "\n",
    "daytime_data.describe()"
   ]
  },
  {
   "cell_type": "code",
   "execution_count": 109,
   "id": "960b5ea0",
   "metadata": {},
   "outputs": [
    {
     "data": {
      "text/html": [
       "<div>\n",
       "<style scoped>\n",
       "    .dataframe tbody tr th:only-of-type {\n",
       "        vertical-align: middle;\n",
       "    }\n",
       "\n",
       "    .dataframe tbody tr th {\n",
       "        vertical-align: top;\n",
       "    }\n",
       "\n",
       "    .dataframe thead th {\n",
       "        text-align: right;\n",
       "    }\n",
       "</style>\n",
       "<table border=\"1\" class=\"dataframe\">\n",
       "  <thead>\n",
       "    <tr style=\"text-align: right;\">\n",
       "      <th></th>\n",
       "      <th>temp</th>\n",
       "      <th>rain_1h</th>\n",
       "      <th>snow_1h</th>\n",
       "      <th>clouds_all</th>\n",
       "      <th>traffic_volume</th>\n",
       "    </tr>\n",
       "  </thead>\n",
       "  <tbody>\n",
       "    <tr>\n",
       "      <th>count</th>\n",
       "      <td>26406.000000</td>\n",
       "      <td>26406.000000</td>\n",
       "      <td>26406.000000</td>\n",
       "      <td>26406.000000</td>\n",
       "      <td>26406.000000</td>\n",
       "    </tr>\n",
       "    <tr>\n",
       "      <th>mean</th>\n",
       "      <td>280.041662</td>\n",
       "      <td>0.142964</td>\n",
       "      <td>0.000181</td>\n",
       "      <td>46.043021</td>\n",
       "      <td>2018.015375</td>\n",
       "    </tr>\n",
       "    <tr>\n",
       "      <th>std</th>\n",
       "      <td>13.312483</td>\n",
       "      <td>1.131005</td>\n",
       "      <td>0.007148</td>\n",
       "      <td>39.995392</td>\n",
       "      <td>1713.201969</td>\n",
       "    </tr>\n",
       "    <tr>\n",
       "      <th>min</th>\n",
       "      <td>0.000000</td>\n",
       "      <td>0.000000</td>\n",
       "      <td>0.000000</td>\n",
       "      <td>0.000000</td>\n",
       "      <td>0.000000</td>\n",
       "    </tr>\n",
       "    <tr>\n",
       "      <th>25%</th>\n",
       "      <td>271.600000</td>\n",
       "      <td>0.000000</td>\n",
       "      <td>0.000000</td>\n",
       "      <td>1.000000</td>\n",
       "      <td>581.000000</td>\n",
       "    </tr>\n",
       "    <tr>\n",
       "      <th>50%</th>\n",
       "      <td>281.280000</td>\n",
       "      <td>0.000000</td>\n",
       "      <td>0.000000</td>\n",
       "      <td>40.000000</td>\n",
       "      <td>1485.000000</td>\n",
       "    </tr>\n",
       "    <tr>\n",
       "      <th>75%</th>\n",
       "      <td>290.550000</td>\n",
       "      <td>0.000000</td>\n",
       "      <td>0.000000</td>\n",
       "      <td>90.000000</td>\n",
       "      <td>2934.000000</td>\n",
       "    </tr>\n",
       "    <tr>\n",
       "      <th>max</th>\n",
       "      <td>307.680000</td>\n",
       "      <td>55.630000</td>\n",
       "      <td>0.510000</td>\n",
       "      <td>100.000000</td>\n",
       "      <td>7260.000000</td>\n",
       "    </tr>\n",
       "  </tbody>\n",
       "</table>\n",
       "</div>"
      ],
      "text/plain": [
       "               temp       rain_1h       snow_1h    clouds_all  traffic_volume\n",
       "count  26406.000000  26406.000000  26406.000000  26406.000000    26406.000000\n",
       "mean     280.041662      0.142964      0.000181     46.043021     2018.015375\n",
       "std       13.312483      1.131005      0.007148     39.995392     1713.201969\n",
       "min        0.000000      0.000000      0.000000      0.000000        0.000000\n",
       "25%      271.600000      0.000000      0.000000      1.000000      581.000000\n",
       "50%      281.280000      0.000000      0.000000     40.000000     1485.000000\n",
       "75%      290.550000      0.000000      0.000000     90.000000     2934.000000\n",
       "max      307.680000     55.630000      0.510000    100.000000     7260.000000"
      ]
     },
     "execution_count": 109,
     "metadata": {},
     "output_type": "execute_result"
    }
   ],
   "source": [
    "# exploring traffic_volume statistics for nighttime data\n",
    "\n",
    "nighttime_data.describe()"
   ]
  },
  {
   "cell_type": "markdown",
   "id": "1712d552",
   "metadata": {},
   "source": [
    "Examining the histograms we see that for daytime, the data for volume values are described by an approximately normal distribution. As for the nighttime data, the histogram assumes a rightly skewed shape.\n",
    "\n",
    "The traffic volume during the day has a mean around 4649 and its normal shaped distribution indicates that we should expect values around this mean very often.\n",
    "\n",
    "At night, we see a histogram peaked at values closer to 0, and mostly under 4000. As expected, this indicates that we should expect low traffic volume at nighttime."
   ]
  },
  {
   "cell_type": "code",
   "execution_count": null,
   "id": "14af0686",
   "metadata": {},
   "outputs": [],
   "source": []
  }
 ],
 "metadata": {
  "kernelspec": {
   "display_name": "Python 3",
   "language": "python",
   "name": "python3"
  },
  "language_info": {
   "codemirror_mode": {
    "name": "ipython",
    "version": 3
   },
   "file_extension": ".py",
   "mimetype": "text/x-python",
   "name": "python",
   "nbconvert_exporter": "python",
   "pygments_lexer": "ipython3",
   "version": "3.8.8"
  }
 },
 "nbformat": 4,
 "nbformat_minor": 5
}
