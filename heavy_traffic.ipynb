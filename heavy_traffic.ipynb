{
 "cells": [
  {
   "cell_type": "markdown",
   "id": "86b03584",
   "metadata": {},
   "source": [
    "# Guided Project: Finding Heavy Traffic Indicators on I-94\n",
    "### Author: Marwin M I B Carmo"
   ]
  },
  {
   "cell_type": "markdown",
   "id": "b649345d",
   "metadata": {},
   "source": [
    "## Introduction\n",
    "\n",
    "In this project we will practice data exploration and visualization. The chosen dataset provides the westbound traffic on the [I-94 Interstate highway](https://en.wikipedia.org/wiki/Interstate_94). It can be dowloaded from [UCI Machine Learning Repository](https://archive.ics.uci.edu/ml/datasets/Metro+Interstate+Traffic+Volume).\n",
    "\n",
    "In this analysis we will search for some indicators of heavy traffict on I-94."
   ]
  },
  {
   "cell_type": "code",
   "execution_count": 2,
   "id": "bddae0d2",
   "metadata": {},
   "outputs": [],
   "source": [
    "# importing packages and reading the dataset\n",
    "import matplotlib.pyplot as plt\n",
    "%matplotlib inline\n",
    "import pandas as pd\n",
    "\n",
    "traffic = pd.read_csv('data/Metro_Interstate_Traffic_Volume.csv')"
   ]
  },
  {
   "cell_type": "code",
   "execution_count": 3,
   "id": "b54f4b1a",
   "metadata": {},
   "outputs": [
    {
     "name": "stdout",
     "output_type": "stream",
     "text": [
      "  holiday    temp  rain_1h  snow_1h  clouds_all weather_main  \\\n",
      "0    None  288.28      0.0      0.0          40       Clouds   \n",
      "1    None  289.36      0.0      0.0          75       Clouds   \n",
      "2    None  289.58      0.0      0.0          90       Clouds   \n",
      "3    None  290.13      0.0      0.0          90       Clouds   \n",
      "4    None  291.14      0.0      0.0          75       Clouds   \n",
      "\n",
      "  weather_description            date_time  traffic_volume  \n",
      "0    scattered clouds  2012-10-02 09:00:00            5545  \n",
      "1       broken clouds  2012-10-02 10:00:00            4516  \n",
      "2     overcast clouds  2012-10-02 11:00:00            4767  \n",
      "3     overcast clouds  2012-10-02 12:00:00            5026  \n",
      "4       broken clouds  2012-10-02 13:00:00            4918  \n",
      "      holiday    temp  rain_1h  snow_1h  clouds_all  weather_main  \\\n",
      "48199    None  283.45      0.0      0.0          75        Clouds   \n",
      "48200    None  282.76      0.0      0.0          90        Clouds   \n",
      "48201    None  282.73      0.0      0.0          90  Thunderstorm   \n",
      "48202    None  282.09      0.0      0.0          90        Clouds   \n",
      "48203    None  282.12      0.0      0.0          90        Clouds   \n",
      "\n",
      "          weather_description            date_time  traffic_volume  \n",
      "48199           broken clouds  2018-09-30 19:00:00            3543  \n",
      "48200         overcast clouds  2018-09-30 20:00:00            2781  \n",
      "48201  proximity thunderstorm  2018-09-30 21:00:00            2159  \n",
      "48202         overcast clouds  2018-09-30 22:00:00            1450  \n",
      "48203         overcast clouds  2018-09-30 23:00:00             954  \n",
      "<class 'pandas.core.frame.DataFrame'>\n",
      "RangeIndex: 48204 entries, 0 to 48203\n",
      "Data columns (total 9 columns):\n",
      " #   Column               Non-Null Count  Dtype  \n",
      "---  ------               --------------  -----  \n",
      " 0   holiday              48204 non-null  object \n",
      " 1   temp                 48204 non-null  float64\n",
      " 2   rain_1h              48204 non-null  float64\n",
      " 3   snow_1h              48204 non-null  float64\n",
      " 4   clouds_all           48204 non-null  int64  \n",
      " 5   weather_main         48204 non-null  object \n",
      " 6   weather_description  48204 non-null  object \n",
      " 7   date_time            48204 non-null  object \n",
      " 8   traffic_volume       48204 non-null  int64  \n",
      "dtypes: float64(3), int64(2), object(4)\n",
      "memory usage: 3.3+ MB\n"
     ]
    }
   ],
   "source": [
    "# inspecting first five rows\n",
    "print(traffic.head(5))\n",
    "\n",
    "# inspecting last five rows\n",
    "print(traffic.tail(5))\n",
    "\n",
    "# Exploring dataset info\n",
    "traffic.info()"
   ]
  },
  {
   "cell_type": "code",
   "execution_count": 4,
   "id": "450ed02d",
   "metadata": {},
   "outputs": [
    {
     "data": {
      "image/png": "[encoded data removed]",
      "text/plain": [
       "<Figure size 432x288 with 1 Axes>"
      ]
     },
     "metadata": {
      "needs_background": "light"
     },
     "output_type": "display_data"
    }
   ],
   "source": [
    "# histogram of traffic_volume column\n",
    "\n",
    "plt.hist(traffic['traffic_volume'])\n",
    "plt.show()"
   ]
  },
  {
   "cell_type": "code",
   "execution_count": 5,
   "id": "3e482b46",
   "metadata": {},
   "outputs": [
    {
     "data": {
      "text/plain": [
       "count    48204.000000\n",
       "mean      3259.818355\n",
       "std       1986.860670\n",
       "min          0.000000\n",
       "25%       1193.000000\n",
       "50%       3380.000000\n",
       "75%       4933.000000\n",
       "max       7280.000000\n",
       "Name: traffic_volume, dtype: float64"
      ]
     },
     "execution_count": 5,
     "metadata": {},
     "output_type": "execute_result"
    }
   ],
   "source": [
    "# traffic_volume information\n",
    "\n",
    "traffic['traffic_volume'].describe()"
   ]
  },
  {
   "cell_type": "markdown",
   "id": "ed01192d",
   "metadata": {},
   "source": [
    "Inspecting the output from `traffic_volume` column, we see that the distribution looks bimodal. The first quartile says that about 25% of the time, there were 1,193 cars at maximum passing the station each hour. On the other extremity, the third quartile inform us that about 25% of the time, the traffic volume increased to at least 4,933 cars each hour.\n",
    "\n",
    "There is a strong suspicion that the taffic volume is influeced by the time of the day. To help the investigation, we will divide the dataset into **daytime** data (7 a.m. to 7 p.m.) and **nighttime** data (7 p.m. to 7 a.m.)."
   ]
  },
  {
   "cell_type": "markdown",
   "id": "3a229054",
   "metadata": {},
   "source": [
    "## Traffic Volume: Day vs. Night"
   ]
  },
  {
   "cell_type": "code",
   "execution_count": 6,
   "id": "431ace71",
   "metadata": {},
   "outputs": [],
   "source": [
    "# first we need to transform the date_time column into datetime object\n",
    "\n",
    "traffic['date_time'] = pd.to_datetime(traffic['date_time'])"
   ]
  },
  {
   "cell_type": "code",
   "execution_count": 16,
   "id": "9c538693",
   "metadata": {},
   "outputs": [],
   "source": [
    "# now we isolate the daytime and nighttime data\n",
    "daytime_data = traffic[(traffic['date_time'].dt.hour >= 7) & (traffic['date_time'].dt.hour <= 18)]\n",
    "\n",
    "nighttime_data = traffic[(traffic['date_time'].dt.hour <= 7) | (traffic['date_time'].dt.hour >= 19)]"
   ]
  },
  {
   "cell_type": "code",
   "execution_count": 17,
   "id": "63386107",
   "metadata": {},
   "outputs": [
    {
     "data": {
      "image/png": "[encoded data removed]",
      "text/plain": [
       "<Figure size 576x216 with 2 Axes>"
      ]
     },
     "metadata": {
      "needs_background": "light"
     },
     "output_type": "display_data"
    }
   ],
   "source": [
    "# plotting the histogram for both time separated datasets\n",
    "\n",
    "# we need a grid chart with two columns and one row:\n",
    "\n",
    "plt.figure(figsize=(8,3))\n",
    "plt.subplot(1,2,1)\n",
    "plt.hist(daytime_data['traffic_volume'])\n",
    "plt.title('Daytime data (7 a.m. to 7 p.m.)')\n",
    "plt.xlabel('Traffic Volume')\n",
    "plt.ylabel('Count')\n",
    "plt.subplot(1,2,2)\n",
    "plt.hist(nighttime_data['traffic_volume'])\n",
    "plt.title('Nighttime data (7 p.m. to 7 a.m.)')\n",
    "plt.xlabel('Traffic Volume')\n",
    "plt.show()"
   ]
  },
  {
   "cell_type": "code",
   "execution_count": 18,
   "id": "89784ae0",
   "metadata": {
    "scrolled": true
   },
   "outputs": [
    {
     "data": {
      "text/html": [
       "<div>\n",
       "<style scoped>\n",
       "    .dataframe tbody tr th:only-of-type {\n",
       "        vertical-align: middle;\n",
       "    }\n",
       "\n",
       "    .dataframe tbody tr th {\n",
       "        vertical-align: top;\n",
       "    }\n",
       "\n",
       "    .dataframe thead th {\n",
       "        text-align: right;\n",
       "    }\n",
       "</style>\n",
       "<table border=\"1\" class=\"dataframe\">\n",
       "  <thead>\n",
       "    <tr style=\"text-align: right;\">\n",
       "      <th></th>\n",
       "      <th>temp</th>\n",
       "      <th>rain_1h</th>\n",
       "      <th>snow_1h</th>\n",
       "      <th>clouds_all</th>\n",
       "      <th>traffic_volume</th>\n",
       "    </tr>\n",
       "  </thead>\n",
       "  <tbody>\n",
       "    <tr>\n",
       "      <th>count</th>\n",
       "      <td>23877.000000</td>\n",
       "      <td>23877.00000</td>\n",
       "      <td>23877.000000</td>\n",
       "      <td>23877.000000</td>\n",
       "      <td>23877.000000</td>\n",
       "    </tr>\n",
       "    <tr>\n",
       "      <th>mean</th>\n",
       "      <td>282.257596</td>\n",
       "      <td>0.53306</td>\n",
       "      <td>0.000253</td>\n",
       "      <td>53.122000</td>\n",
       "      <td>4762.047452</td>\n",
       "    </tr>\n",
       "    <tr>\n",
       "      <th>std</th>\n",
       "      <td>13.298885</td>\n",
       "      <td>63.62932</td>\n",
       "      <td>0.008853</td>\n",
       "      <td>37.564588</td>\n",
       "      <td>1174.546482</td>\n",
       "    </tr>\n",
       "    <tr>\n",
       "      <th>min</th>\n",
       "      <td>0.000000</td>\n",
       "      <td>0.00000</td>\n",
       "      <td>0.000000</td>\n",
       "      <td>0.000000</td>\n",
       "      <td>0.000000</td>\n",
       "    </tr>\n",
       "    <tr>\n",
       "      <th>25%</th>\n",
       "      <td>272.680000</td>\n",
       "      <td>0.00000</td>\n",
       "      <td>0.000000</td>\n",
       "      <td>5.000000</td>\n",
       "      <td>4252.000000</td>\n",
       "    </tr>\n",
       "    <tr>\n",
       "      <th>50%</th>\n",
       "      <td>283.780000</td>\n",
       "      <td>0.00000</td>\n",
       "      <td>0.000000</td>\n",
       "      <td>75.000000</td>\n",
       "      <td>4820.000000</td>\n",
       "    </tr>\n",
       "    <tr>\n",
       "      <th>75%</th>\n",
       "      <td>293.440000</td>\n",
       "      <td>0.00000</td>\n",
       "      <td>0.000000</td>\n",
       "      <td>90.000000</td>\n",
       "      <td>5559.000000</td>\n",
       "    </tr>\n",
       "    <tr>\n",
       "      <th>max</th>\n",
       "      <td>310.070000</td>\n",
       "      <td>9831.30000</td>\n",
       "      <td>0.510000</td>\n",
       "      <td>100.000000</td>\n",
       "      <td>7280.000000</td>\n",
       "    </tr>\n",
       "  </tbody>\n",
       "</table>\n",
       "</div>"
      ],
      "text/plain": [
       "               temp      rain_1h       snow_1h    clouds_all  traffic_volume\n",
       "count  23877.000000  23877.00000  23877.000000  23877.000000    23877.000000\n",
       "mean     282.257596      0.53306      0.000253     53.122000     4762.047452\n",
       "std       13.298885     63.62932      0.008853     37.564588     1174.546482\n",
       "min        0.000000      0.00000      0.000000      0.000000        0.000000\n",
       "25%      272.680000      0.00000      0.000000      5.000000     4252.000000\n",
       "50%      283.780000      0.00000      0.000000     75.000000     4820.000000\n",
       "75%      293.440000      0.00000      0.000000     90.000000     5559.000000\n",
       "max      310.070000   9831.30000      0.510000    100.000000     7280.000000"
      ]
     },
     "execution_count": 18,
     "metadata": {},
     "output_type": "execute_result"
    }
   ],
   "source": [
    "# exploring traffic_volume statistics for daytime data\n",
    "\n",
    "daytime_data.describe()"
   ]
  },
  {
   "cell_type": "code",
   "execution_count": 19,
   "id": "960b5ea0",
   "metadata": {},
   "outputs": [
    {
     "data": {
      "text/html": [
       "<div>\n",
       "<style scoped>\n",
       "    .dataframe tbody tr th:only-of-type {\n",
       "        vertical-align: middle;\n",
       "    }\n",
       "\n",
       "    .dataframe tbody tr th {\n",
       "        vertical-align: top;\n",
       "    }\n",
       "\n",
       "    .dataframe thead th {\n",
       "        text-align: right;\n",
       "    }\n",
       "</style>\n",
       "<table border=\"1\" class=\"dataframe\">\n",
       "  <thead>\n",
       "    <tr style=\"text-align: right;\">\n",
       "      <th></th>\n",
       "      <th>temp</th>\n",
       "      <th>rain_1h</th>\n",
       "      <th>snow_1h</th>\n",
       "      <th>clouds_all</th>\n",
       "      <th>traffic_volume</th>\n",
       "    </tr>\n",
       "  </thead>\n",
       "  <tbody>\n",
       "    <tr>\n",
       "      <th>count</th>\n",
       "      <td>26406.000000</td>\n",
       "      <td>26406.000000</td>\n",
       "      <td>26406.000000</td>\n",
       "      <td>26406.000000</td>\n",
       "      <td>26406.000000</td>\n",
       "    </tr>\n",
       "    <tr>\n",
       "      <th>mean</th>\n",
       "      <td>280.041662</td>\n",
       "      <td>0.142964</td>\n",
       "      <td>0.000181</td>\n",
       "      <td>46.043021</td>\n",
       "      <td>2018.015375</td>\n",
       "    </tr>\n",
       "    <tr>\n",
       "      <th>std</th>\n",
       "      <td>13.312483</td>\n",
       "      <td>1.131005</td>\n",
       "      <td>0.007148</td>\n",
       "      <td>39.995392</td>\n",
       "      <td>1713.201969</td>\n",
       "    </tr>\n",
       "    <tr>\n",
       "      <th>min</th>\n",
       "      <td>0.000000</td>\n",
       "      <td>0.000000</td>\n",
       "      <td>0.000000</td>\n",
       "      <td>0.000000</td>\n",
       "      <td>0.000000</td>\n",
       "    </tr>\n",
       "    <tr>\n",
       "      <th>25%</th>\n",
       "      <td>271.600000</td>\n",
       "      <td>0.000000</td>\n",
       "      <td>0.000000</td>\n",
       "      <td>1.000000</td>\n",
       "      <td>581.000000</td>\n",
       "    </tr>\n",
       "    <tr>\n",
       "      <th>50%</th>\n",
       "      <td>281.280000</td>\n",
       "      <td>0.000000</td>\n",
       "      <td>0.000000</td>\n",
       "      <td>40.000000</td>\n",
       "      <td>1485.000000</td>\n",
       "    </tr>\n",
       "    <tr>\n",
       "      <th>75%</th>\n",
       "      <td>290.550000</td>\n",
       "      <td>0.000000</td>\n",
       "      <td>0.000000</td>\n",
       "      <td>90.000000</td>\n",
       "      <td>2934.000000</td>\n",
       "    </tr>\n",
       "    <tr>\n",
       "      <th>max</th>\n",
       "      <td>307.680000</td>\n",
       "      <td>55.630000</td>\n",
       "      <td>0.510000</td>\n",
       "      <td>100.000000</td>\n",
       "      <td>7260.000000</td>\n",
       "    </tr>\n",
       "  </tbody>\n",
       "</table>\n",
       "</div>"
      ],
      "text/plain": [
       "               temp       rain_1h       snow_1h    clouds_all  traffic_volume\n",
       "count  26406.000000  26406.000000  26406.000000  26406.000000    26406.000000\n",
       "mean     280.041662      0.142964      0.000181     46.043021     2018.015375\n",
       "std       13.312483      1.131005      0.007148     39.995392     1713.201969\n",
       "min        0.000000      0.000000      0.000000      0.000000        0.000000\n",
       "25%      271.600000      0.000000      0.000000      1.000000      581.000000\n",
       "50%      281.280000      0.000000      0.000000     40.000000     1485.000000\n",
       "75%      290.550000      0.000000      0.000000     90.000000     2934.000000\n",
       "max      307.680000     55.630000      0.510000    100.000000     7260.000000"
      ]
     },
     "execution_count": 19,
     "metadata": {},
     "output_type": "execute_result"
    }
   ],
   "source": [
    "# exploring traffic_volume statistics for nighttime data\n",
    "\n",
    "nighttime_data.describe()"
   ]
  },
  {
   "cell_type": "markdown",
   "id": "1712d552",
   "metadata": {},
   "source": [
    "Examining the histograms we see that for daytime, the data for volume values are described by an approximately normal distribution. As for the nighttime data, the histogram assumes a rightly skewed shape.\n",
    "\n",
    "The traffic volume during the day has a mean around 4649 and its normal shaped distribution indicates that we should expect values around this mean very often.\n",
    "\n",
    "At night, we see a histogram peaked at values closer to 0, and mostly under 4000. As expected, this indicates that we should expect low traffic volume at nighttime."
   ]
  },
  {
   "cell_type": "markdown",
   "id": "2c3a8a85",
   "metadata": {},
   "source": [
    "## Time indicators\n",
    "\n",
    "Another indicator of traffic volume is time. It is reasonable to suppose that the traffic volume change according to indicators as month, day of the week or time of the day.\n",
    "\n",
    "To start, we can analyze the monthly traffic volume."
   ]
  },
  {
   "cell_type": "code",
   "execution_count": 20,
   "id": "386e1c60",
   "metadata": {},
   "outputs": [
    {
     "name": "stderr",
     "output_type": "stream",
     "text": [
      "<ipython-input-20-e1d64716fd4d>:3: SettingWithCopyWarning: \n",
      "A value is trying to be set on a copy of a slice from a DataFrame.\n",
      "Try using .loc[row_indexer,col_indexer] = value instead\n",
      "\n",
      "See the caveats in the documentation: https://pandas.pydata.org/pandas-docs/stable/user_guide/indexing.html#returning-a-view-versus-a-copy\n",
      "  daytime_data['month'] = daytime_data['date_time'].dt.month\n"
     ]
    },
    {
     "data": {
      "text/plain": [
       "month\n",
       "1     4495.613727\n",
       "2     4711.198394\n",
       "3     4889.409560\n",
       "4     4906.894305\n",
       "5     4911.121609\n",
       "6     4898.019566\n",
       "7     4595.035744\n",
       "8     4928.302035\n",
       "9     4870.783145\n",
       "10    4921.234922\n",
       "11    4704.094319\n",
       "12    4374.834566\n",
       "Name: traffic_volume, dtype: float64"
      ]
     },
     "execution_count": 20,
     "metadata": {},
     "output_type": "execute_result"
    }
   ],
   "source": [
    "# monthly traffic volume average\n",
    "\n",
    "daytime_data['month'] = daytime_data['date_time'].dt.month\n",
    "by_month = daytime_data.groupby('month').mean()\n",
    "by_month['traffic_volume']"
   ]
  },
  {
   "cell_type": "code",
   "execution_count": 21,
   "id": "82363b31",
   "metadata": {},
   "outputs": [
    {
     "data": {
      "image/png": "[encoded data removed]",
      "text/plain": [
       "<Figure size 432x288 with 1 Axes>"
      ]
     },
     "metadata": {
      "needs_background": "light"
     },
     "output_type": "display_data"
    }
   ],
   "source": [
    "plt.plot(by_month['traffic_volume'])\n",
    "plt.title('Montlhy average traffic volume')\n",
    "plt.xlabel('Month number')\n",
    "plt.ylabel('Average traffic volume')\n",
    "plt.show()"
   ]
  },
  {
   "cell_type": "markdown",
   "id": "c7f73b76",
   "metadata": {},
   "source": [
    "As expected the traffic volume decreases at the end and beggining of the year. In holidays season people go on vacation or just have more time at home with family or friends. Another point of inflection is the month of July. In USA [July][1] is the month of the highly celebrated [American Independence Day][2]. It is also, on average, the warmest month of the year, so a reduction on work days is expected.\n",
    "\n",
    "[1]: https://en.wikipedia.org/wiki/July\n",
    "[2]: https://en.wikipedia.org/wiki/Independence_Day_(United_States)"
   ]
  },
  {
   "cell_type": "code",
   "execution_count": 22,
   "id": "c6a2103c",
   "metadata": {},
   "outputs": [
    {
     "name": "stderr",
     "output_type": "stream",
     "text": [
      "<ipython-input-22-c4173ea16767>:3: SettingWithCopyWarning: \n",
      "A value is trying to be set on a copy of a slice from a DataFrame.\n",
      "Try using .loc[row_indexer,col_indexer] = value instead\n",
      "\n",
      "See the caveats in the documentation: https://pandas.pydata.org/pandas-docs/stable/user_guide/indexing.html#returning-a-view-versus-a-copy\n",
      "  daytime_data['dayofweek'] = daytime_data['date_time'].dt.dayofweek\n"
     ]
    },
    {
     "data": {
      "text/plain": [
       "dayofweek\n",
       "0    4893.551286\n",
       "1    5189.004782\n",
       "2    5284.454282\n",
       "3    5311.303730\n",
       "4    5291.600829\n",
       "5    3927.249558\n",
       "6    3436.541789\n",
       "Name: traffic_volume, dtype: float64"
      ]
     },
     "execution_count": 22,
     "metadata": {},
     "output_type": "execute_result"
    }
   ],
   "source": [
    "# traffic average per day of the week\n",
    "\n",
    "daytime_data['dayofweek'] = daytime_data['date_time'].dt.dayofweek\n",
    "by_dayofweek = daytime_data.groupby('dayofweek').mean()\n",
    "by_dayofweek['traffic_volume']"
   ]
  },
  {
   "cell_type": "code",
   "execution_count": 23,
   "id": "a3b60608",
   "metadata": {},
   "outputs": [
    {
     "data": {
      "image/png": "[encoded data removed]",
      "text/plain": [
       "<Figure size 432x288 with 1 Axes>"
      ]
     },
     "metadata": {
      "needs_background": "light"
     },
     "output_type": "display_data"
    }
   ],
   "source": [
    "plt.plot(by_dayofweek['traffic_volume'])\n",
    "plt.title('Average traffic volume per day of week')\n",
    "plt.xlabel('Day of the week number')\n",
    "plt.ylabel('Average traffic volume')\n",
    "plt.show()"
   ]
  },
  {
   "cell_type": "markdown",
   "id": "79d5ae1b",
   "metadata": {},
   "source": [
    "No surprises here either. Because most people do not go to office on weekends, the average traffic volume on saturdays and sundays decreases greatly."
   ]
  },
  {
   "cell_type": "code",
   "execution_count": 24,
   "id": "0a80af3d",
   "metadata": {},
   "outputs": [
    {
     "name": "stdout",
     "output_type": "stream",
     "text": [
      "hour\n",
      "7     6030.413559\n",
      "8     5503.497970\n",
      "9     4895.269257\n",
      "10    4378.419118\n",
      "11    4633.419470\n",
      "12    4855.382143\n",
      "13    4859.180473\n",
      "14    5152.995778\n",
      "15    5592.897768\n",
      "16    6189.473647\n",
      "17    5784.827133\n",
      "18    4434.209431\n",
      "Name: traffic_volume, dtype: float64\n",
      "hour\n",
      "7     1589.365894\n",
      "8     2338.578073\n",
      "9     3111.623917\n",
      "10    3686.632302\n",
      "11    4044.154955\n",
      "12    4372.482883\n",
      "13    4362.296564\n",
      "14    4358.543796\n",
      "15    4342.456881\n",
      "16    4339.693805\n",
      "17    4151.919929\n",
      "18    3811.792279\n",
      "Name: traffic_volume, dtype: float64\n"
     ]
    },
    {
     "name": "stderr",
     "output_type": "stream",
     "text": [
      "<ipython-input-24-0c28ffb3c7c4>:1: SettingWithCopyWarning: \n",
      "A value is trying to be set on a copy of a slice from a DataFrame.\n",
      "Try using .loc[row_indexer,col_indexer] = value instead\n",
      "\n",
      "See the caveats in the documentation: https://pandas.pydata.org/pandas-docs/stable/user_guide/indexing.html#returning-a-view-versus-a-copy\n",
      "  daytime_data['hour'] = daytime_data['date_time'].dt.hour\n"
     ]
    }
   ],
   "source": [
    "daytime_data['hour'] = daytime_data['date_time'].dt.hour\n",
    "bussiness_days = daytime_data.copy()[daytime_data['dayofweek'] <= 4] # 4 == Friday\n",
    "weekend = daytime_data.copy()[daytime_data['dayofweek'] >= 5] # 5 == Saturday\n",
    "by_hour_business = bussiness_days.groupby('hour').mean()\n",
    "by_hour_weekend = weekend.groupby('hour').mean()\n",
    "\n",
    "print(by_hour_business['traffic_volume'])\n",
    "print(by_hour_weekend['traffic_volume'])"
   ]
  },
  {
   "cell_type": "code",
   "execution_count": 33,
   "id": "a92da6df",
   "metadata": {},
   "outputs": [
    {
     "data": {
      "image/png": "[encoded data removed]",
      "text/plain": [
       "<Figure size 576x216 with 2 Axes>"
      ]
     },
     "metadata": {
      "needs_background": "light"
     },
     "output_type": "display_data"
    }
   ],
   "source": [
    "plt.figure(figsize=(8,3))\n",
    "plt.subplot(1,2,1)\n",
    "plt.plot(by_hour_business['traffic_volume'])\n",
    "plt.title('Business days')\n",
    "plt.xlabel('Hour')\n",
    "plt.ylabel('Traffic Volume')\n",
    "plt.axis([7, 18, 1000, 6500])\n",
    "plt.subplot(1,2,2)\n",
    "plt.plot(by_hour_weekend['traffic_volume'])\n",
    "plt.title('Weekends')\n",
    "plt.xlabel('Hour')\n",
    "plt.axis([7, 18, 1000, 6500])\n",
    "plt.show()"
   ]
  },
  {
   "cell_type": "markdown",
   "id": "a4f8ea24",
   "metadata": {},
   "source": [
    "During business days we can identify traffic volume peaks at 7-8 a.m. and 4-5 p.m., presumably when people are out to go to work and go back home respectively.\n",
    "\n",
    "On weekends the pattern of traffic volume has its peak at 12 p.m. but remains almost constant throughout the rest of the day.\n",
    "\n",
    "On business days streets are way busier than on weekends."
   ]
  },
  {
   "cell_type": "markdown",
   "id": "0ebb7c6a",
   "metadata": {},
   "source": [
    "## Weather Indicators\n",
    "\n",
    "To check weather indicators of heavy traffic we can check the correlation between numerical columns about weather with `traffic_volume`."
   ]
  },
  {
   "cell_type": "code",
   "execution_count": 36,
   "id": "30352e92",
   "metadata": {},
   "outputs": [
    {
     "data": {
      "text/html": [
       "<div>\n",
       "<style scoped>\n",
       "    .dataframe tbody tr th:only-of-type {\n",
       "        vertical-align: middle;\n",
       "    }\n",
       "\n",
       "    .dataframe tbody tr th {\n",
       "        vertical-align: top;\n",
       "    }\n",
       "\n",
       "    .dataframe thead th {\n",
       "        text-align: right;\n",
       "    }\n",
       "</style>\n",
       "<table border=\"1\" class=\"dataframe\">\n",
       "  <thead>\n",
       "    <tr style=\"text-align: right;\">\n",
       "      <th></th>\n",
       "      <th>temp</th>\n",
       "      <th>rain_1h</th>\n",
       "      <th>snow_1h</th>\n",
       "      <th>clouds_all</th>\n",
       "      <th>traffic_volume</th>\n",
       "    </tr>\n",
       "  </thead>\n",
       "  <tbody>\n",
       "    <tr>\n",
       "      <th>temp</th>\n",
       "      <td>1.000000</td>\n",
       "      <td>0.010815</td>\n",
       "      <td>-0.019286</td>\n",
       "      <td>-0.135519</td>\n",
       "      <td>0.128317</td>\n",
       "    </tr>\n",
       "    <tr>\n",
       "      <th>rain_1h</th>\n",
       "      <td>0.010815</td>\n",
       "      <td>1.000000</td>\n",
       "      <td>-0.000091</td>\n",
       "      <td>0.004993</td>\n",
       "      <td>0.003697</td>\n",
       "    </tr>\n",
       "    <tr>\n",
       "      <th>snow_1h</th>\n",
       "      <td>-0.019286</td>\n",
       "      <td>-0.000091</td>\n",
       "      <td>1.000000</td>\n",
       "      <td>0.027721</td>\n",
       "      <td>0.001265</td>\n",
       "    </tr>\n",
       "    <tr>\n",
       "      <th>clouds_all</th>\n",
       "      <td>-0.135519</td>\n",
       "      <td>0.004993</td>\n",
       "      <td>0.027721</td>\n",
       "      <td>1.000000</td>\n",
       "      <td>-0.032932</td>\n",
       "    </tr>\n",
       "    <tr>\n",
       "      <th>traffic_volume</th>\n",
       "      <td>0.128317</td>\n",
       "      <td>0.003697</td>\n",
       "      <td>0.001265</td>\n",
       "      <td>-0.032932</td>\n",
       "      <td>1.000000</td>\n",
       "    </tr>\n",
       "    <tr>\n",
       "      <th>month</th>\n",
       "      <td>0.222072</td>\n",
       "      <td>0.001176</td>\n",
       "      <td>0.026768</td>\n",
       "      <td>0.000595</td>\n",
       "      <td>-0.022337</td>\n",
       "    </tr>\n",
       "    <tr>\n",
       "      <th>dayofweek</th>\n",
       "      <td>0.000188</td>\n",
       "      <td>-0.009683</td>\n",
       "      <td>-0.008814</td>\n",
       "      <td>-0.041980</td>\n",
       "      <td>-0.416453</td>\n",
       "    </tr>\n",
       "    <tr>\n",
       "      <th>hour</th>\n",
       "      <td>0.162691</td>\n",
       "      <td>0.008279</td>\n",
       "      <td>0.003923</td>\n",
       "      <td>0.023685</td>\n",
       "      <td>0.172704</td>\n",
       "    </tr>\n",
       "  </tbody>\n",
       "</table>\n",
       "</div>"
      ],
      "text/plain": [
       "                    temp   rain_1h   snow_1h  clouds_all  traffic_volume\n",
       "temp            1.000000  0.010815 -0.019286   -0.135519        0.128317\n",
       "rain_1h         0.010815  1.000000 -0.000091    0.004993        0.003697\n",
       "snow_1h        -0.019286 -0.000091  1.000000    0.027721        0.001265\n",
       "clouds_all     -0.135519  0.004993  0.027721    1.000000       -0.032932\n",
       "traffic_volume  0.128317  0.003697  0.001265   -0.032932        1.000000\n",
       "month           0.222072  0.001176  0.026768    0.000595       -0.022337\n",
       "dayofweek       0.000188 -0.009683 -0.008814   -0.041980       -0.416453\n",
       "hour            0.162691  0.008279  0.003923    0.023685        0.172704"
      ]
     },
     "execution_count": 36,
     "metadata": {},
     "output_type": "execute_result"
    }
   ],
   "source": [
    "daytime_data.corr()[['temp', 'rain_1h', 'snow_1h', 'clouds_all', 'traffic_volume']]"
   ]
  },
  {
   "cell_type": "markdown",
   "id": "2051c6e2",
   "metadata": {},
   "source": [
    "Looking at the correlation values for the weather variables, the temperature (`temp`) shows the strongest correlation with `traffic_volume`. We can build a scatter plot to inspect the pattern of the correlation."
   ]
  },
  {
   "cell_type": "code",
   "execution_count": 37,
   "id": "b4e806d6",
   "metadata": {},
   "outputs": [
    {
     "data": {
      "text/plain": [
       "<matplotlib.collections.PathCollection at 0x1e1fb7c4220>"
      ]
     },
     "execution_count": 37,
     "metadata": {},
     "output_type": "execute_result"
    },
    {
     "data": {
      "image/png": "[encoded data removed]",
      "text/plain": [
       "<Figure size 432x288 with 1 Axes>"
      ]
     },
     "metadata": {
      "needs_background": "light"
     },
     "output_type": "display_data"
    }
   ],
   "source": [
    "plt.scatter(daytime_data['temp'], daytime_data['traffic_volume'])"
   ]
  },
  {
   "cell_type": "markdown",
   "id": "813fc8b3",
   "metadata": {},
   "source": [
    "We can spot two outliers with temp values of 0. Since we have strong basis to judge these datapoints as entry errors, we can exclude them and build another scatterplot."
   ]
  },
  {
   "cell_type": "code",
   "execution_count": 46,
   "id": "4a7d39b1",
   "metadata": {},
   "outputs": [
    {
     "data": {
      "text/plain": [
       "<matplotlib.collections.PathCollection at 0x1e1f9c50250>"
      ]
     },
     "execution_count": 46,
     "metadata": {},
     "output_type": "execute_result"
    },
    {
     "data": {
      "image/png": "[encoded data removed]",
      "text/plain": [
       "<Figure size 432x288 with 1 Axes>"
      ]
     },
     "metadata": {
      "needs_background": "light"
     },
     "output_type": "display_data"
    }
   ],
   "source": [
    "plt.scatter(daytime_data[daytime_data['temp'] > 0]['temp'], daytime_data[daytime_data['temp'] > 0]['traffic_volume'])"
   ]
  },
  {
   "cell_type": "markdown",
   "id": "bbf67f3a",
   "metadata": {},
   "source": [
    "That's better. However, the distribution looks like one big block of datapoints and no pattern of data can be inferred. Other weather indicators show even lower correlation values, so we shouldn't expect that they will be any more informative."
   ]
  },
  {
   "cell_type": "markdown",
   "id": "9f6dfb69",
   "metadata": {},
   "source": [
    "## Weather Types\n",
    "\n",
    "Since numerical weather indicators provided little useful information, we can now turn to investigate the categorical weather variables, `weather_main` and `weather_description`. We're going to calculate the average traffic volume associated with each unique value in these two columns."
   ]
  },
  {
   "cell_type": "code",
   "execution_count": 73,
   "id": "da83bb7b",
   "metadata": {},
   "outputs": [],
   "source": [
    "# grouping by the weather variables and taking the mean of numerical columns\n",
    "by_weather_main = daytime_data.groupby('weather_main').mean().reset_index()\n",
    "by_weather_description = daytime_data.groupby('weather_description').mean().reset_index()"
   ]
  },
  {
   "cell_type": "code",
   "execution_count": 71,
   "id": "cb731f79",
   "metadata": {},
   "outputs": [
    {
     "data": {
      "image/png": "[encoded data removed]",
      "text/plain": [
       "<Figure size 432x288 with 1 Axes>"
      ]
     },
     "metadata": {
      "needs_background": "light"
     },
     "output_type": "display_data"
    }
   ],
   "source": [
    "# Horizontal bar plot for the traffic volume by weather condition\n",
    "plt.barh(by_weather_main['weather_main'], by_weather_main['traffic_volume'])\n",
    "plt.show()"
   ]
  },
  {
   "cell_type": "markdown",
   "id": "221dc138",
   "metadata": {},
   "source": [
    "The column for the short description of the current weather isn't much informative. We see that most categories have traffic volume values very close to each other. We can also see that no weather type exceedes 5,000."
   ]
  },
  {
   "cell_type": "code",
   "execution_count": 77,
   "id": "35fc9302",
   "metadata": {},
   "outputs": [
    {
     "data": {
      "image/png": "[encoded data removed]",
      "text/plain": [
       "<Figure size 720x864 with 1 Axes>"
      ]
     },
     "metadata": {
      "needs_background": "light"
     },
     "output_type": "display_data"
    }
   ],
   "source": [
    "# Horizontal bar plot for the traffic volume by weather description\n",
    "by_weather_description.plot.barh('weather_description', 'traffic_volume',\n",
    "        figsize = (10, 12))\n",
    "plt.show()"
   ]
  },
  {
   "cell_type": "markdown",
   "id": "ef811fe8",
   "metadata": {},
   "source": [
    "This plot gives us some more information. We can see that few weather categories like \"thunderstorm with drizzle\", \"shower snow\" and \"light rain and snow\" exceeds 5,000 cars, beign particularly stronger indicators of heavy traffic."
   ]
  },
  {
   "cell_type": "markdown",
   "id": "81921eab",
   "metadata": {},
   "source": [
    "## Conclusion\n",
    "\n",
    "To wrap up our descriptive analysis of this dataset, lets recap what we have identifyied as stronger indicators of heavy traffic on I-94 highway:\n",
    "\n",
    "- In business days the volume of cars on streets is higher than on weekends. We have spotted higher volume peaks at 7 a.m. and 6 p.m.\n",
    "- During warm months the traffic is heavier. We have identifyied a drop in volume during the period of November to February\n",
    "- Weather is also a good indicator of traffic volume. Particularl"
   ]
  }
 ],
 "metadata": {
  "kernelspec": {
   "display_name": "Python 3",
   "language": "python",
   "name": "python3"
  },
  "language_info": {
   "codemirror_mode": {
    "name": "ipython",
    "version": 3
   },
   "file_extension": ".py",
   "mimetype": "text/x-python",
   "name": "python",
   "nbconvert_exporter": "python",
   "pygments_lexer": "ipython3",
   "version": "3.8.8"
  }
 },
 "nbformat": 4,
 "nbformat_minor": 5
}
